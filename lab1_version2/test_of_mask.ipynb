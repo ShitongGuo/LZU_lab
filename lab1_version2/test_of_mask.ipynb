{
 "cells": [
  {
   "cell_type": "code",
   "execution_count": 1,
   "id": "979b3537-e4c3-4ce3-9281-9fafc02cab2a",
   "metadata": {},
   "outputs": [],
   "source": [
    "import numpy as np\n",
    "dataX = [1,2,3,4,5,6,7,8,9,10.1,12.4]\n",
    "dataX = np.asarray(dataX)\n",
    "ta=4\n",
    "L=8\n"
   ]
  },
  {
   "cell_type": "code",
   "execution_count": 2,
   "id": "02a7c34e-4b74-4bf2-9de2-125b5698304b",
   "metadata": {},
   "outputs": [
    {
     "name": "stdout",
     "output_type": "stream",
     "text": [
      "[0. 0. 0. 0. 0. 0. 0. 0. 0. 0. 0.]\n"
     ]
    }
   ],
   "source": [
    "sigVec = np.zeros_like(dataX)\n",
    "print(sigVec)"
   ]
  },
  {
   "cell_type": "code",
   "execution_count": 3,
   "id": "0956c447-74ee-412c-ac20-1ba22cc2b163",
   "metadata": {},
   "outputs": [],
   "source": [
    "mask = (dataX >= ta) & (dataX <= ta + L)"
   ]
  },
  {
   "cell_type": "code",
   "execution_count": 4,
   "id": "2a6a4c77-fc62-4550-8676-6c1631d5971c",
   "metadata": {},
   "outputs": [
    {
     "name": "stdout",
     "output_type": "stream",
     "text": [
      "[False False False  True  True  True  True  True  True  True False]\n"
     ]
    }
   ],
   "source": [
    "print(mask)"
   ]
  },
  {
   "cell_type": "code",
   "execution_count": 5,
   "id": "32eb4dec-a6e8-4b5f-a44c-d54995dc8bf4",
   "metadata": {},
   "outputs": [],
   "source": [
    "t_active = dataX[mask] - ta"
   ]
  },
  {
   "cell_type": "code",
   "execution_count": 6,
   "id": "add242e7-ad89-432d-b917-421ee81223b0",
   "metadata": {},
   "outputs": [
    {
     "name": "stdout",
     "output_type": "stream",
     "text": [
      "[0.  1.  2.  3.  4.  5.  6.1]\n"
     ]
    }
   ],
   "source": [
    "print(t_active)"
   ]
  },
  {
   "cell_type": "code",
   "execution_count": 7,
   "id": "31286c58-18ca-4ce2-9893-0c8e4f84dc40",
   "metadata": {},
   "outputs": [],
   "source": [
    "sigVec[mask] = 2 * np.sin(2 * np.pi * (2 * t_active + 3 * t_active**2) + 0.6)"
   ]
  },
  {
   "cell_type": "code",
   "execution_count": 8,
   "id": "afc02c85-517f-4ffa-a64b-4c54fc74d8d7",
   "metadata": {},
   "outputs": [
    {
     "name": "stdout",
     "output_type": "stream",
     "text": [
      "[ 0.          0.          0.          1.12928495  1.12928495  1.12928495\n",
      "  1.12928495  1.12928495  1.12928495 -0.90245705  0.        ]\n"
     ]
    }
   ],
   "source": [
    "print(sigVec)"
   ]
  },
  {
   "cell_type": "code",
   "execution_count": null,
   "id": "15292cf9-104e-4564-8020-685e39608092",
   "metadata": {},
   "outputs": [],
   "source": []
  }
 ],
 "metadata": {
  "kernelspec": {
   "display_name": "Python 3 (mainwork)",
   "language": "python",
   "name": "mainwork"
  },
  "language_info": {
   "codemirror_mode": {
    "name": "ipython",
    "version": 3
   },
   "file_extension": ".py",
   "mimetype": "text/x-python",
   "name": "python",
   "nbconvert_exporter": "python",
   "pygments_lexer": "ipython3",
   "version": "3.12.11"
  }
 },
 "nbformat": 4,
 "nbformat_minor": 5
}
